{
 "cells": [
  {
   "cell_type": "code",
   "execution_count": 1,
   "id": "5f266680",
   "metadata": {},
   "outputs": [],
   "source": [
    "import pandas as pd\n",
    "import numpy as np\n",
    "import matplotlib.pyplot as plt"
   ]
  },
  {
   "cell_type": "code",
   "execution_count": 4,
   "id": "4b627e7a",
   "metadata": {},
   "outputs": [],
   "source": [
    "df=pd.read_csv(\"advertising.csv\")"
   ]
  },
  {
   "cell_type": "code",
   "execution_count": 5,
   "id": "7b3514cf",
   "metadata": {},
   "outputs": [
    {
     "data": {
      "text/html": [
       "<div>\n",
       "<style scoped>\n",
       "    .dataframe tbody tr th:only-of-type {\n",
       "        vertical-align: middle;\n",
       "    }\n",
       "\n",
       "    .dataframe tbody tr th {\n",
       "        vertical-align: top;\n",
       "    }\n",
       "\n",
       "    .dataframe thead th {\n",
       "        text-align: right;\n",
       "    }\n",
       "</style>\n",
       "<table border=\"1\" class=\"dataframe\">\n",
       "  <thead>\n",
       "    <tr style=\"text-align: right;\">\n",
       "      <th></th>\n",
       "      <th>TV</th>\n",
       "      <th>Radio</th>\n",
       "      <th>Newspaper</th>\n",
       "      <th>Sales</th>\n",
       "    </tr>\n",
       "  </thead>\n",
       "  <tbody>\n",
       "    <tr>\n",
       "      <th>0</th>\n",
       "      <td>230.1</td>\n",
       "      <td>37.8</td>\n",
       "      <td>69.2</td>\n",
       "      <td>22.1</td>\n",
       "    </tr>\n",
       "    <tr>\n",
       "      <th>1</th>\n",
       "      <td>44.5</td>\n",
       "      <td>39.3</td>\n",
       "      <td>45.1</td>\n",
       "      <td>10.4</td>\n",
       "    </tr>\n",
       "    <tr>\n",
       "      <th>2</th>\n",
       "      <td>17.2</td>\n",
       "      <td>45.9</td>\n",
       "      <td>69.3</td>\n",
       "      <td>12.0</td>\n",
       "    </tr>\n",
       "    <tr>\n",
       "      <th>3</th>\n",
       "      <td>151.5</td>\n",
       "      <td>41.3</td>\n",
       "      <td>58.5</td>\n",
       "      <td>16.5</td>\n",
       "    </tr>\n",
       "    <tr>\n",
       "      <th>4</th>\n",
       "      <td>180.8</td>\n",
       "      <td>10.8</td>\n",
       "      <td>58.4</td>\n",
       "      <td>17.9</td>\n",
       "    </tr>\n",
       "  </tbody>\n",
       "</table>\n",
       "</div>"
      ],
      "text/plain": [
       "      TV  Radio  Newspaper  Sales\n",
       "0  230.1   37.8       69.2   22.1\n",
       "1   44.5   39.3       45.1   10.4\n",
       "2   17.2   45.9       69.3   12.0\n",
       "3  151.5   41.3       58.5   16.5\n",
       "4  180.8   10.8       58.4   17.9"
      ]
     },
     "execution_count": 5,
     "metadata": {},
     "output_type": "execute_result"
    }
   ],
   "source": [
    "df.head()"
   ]
  },
  {
   "cell_type": "code",
   "execution_count": 7,
   "id": "bff6cfa1",
   "metadata": {},
   "outputs": [
    {
     "data": {
      "text/plain": [
       "<matplotlib.collections.PathCollection at 0x23d6b87d370>"
      ]
     },
     "execution_count": 7,
     "metadata": {},
     "output_type": "execute_result"
    },
    {
     "data": {
      "image/png": "[encoded data removed]",
      "text/plain": [
       "<Figure size 432x288 with 1 Axes>"
      ]
     },
     "metadata": {
      "needs_background": "light"
     },
     "output_type": "display_data"
    }
   ],
   "source": [
    "plt.scatter(df.TV,df.Sales)"
   ]
  },
  {
   "cell_type": "markdown",
   "id": "6e0274c6",
   "metadata": {},
   "source": [
    "# Single Variant ML Model?"
   ]
  },
  {
   "cell_type": "code",
   "execution_count": 13,
   "id": "68540a0a",
   "metadata": {},
   "outputs": [],
   "source": [
    "x = df[['TV']]\n",
    "y= df[['Sales']]"
   ]
  },
  {
   "cell_type": "code",
   "execution_count": 14,
   "id": "ab965cd7",
   "metadata": {},
   "outputs": [],
   "source": [
    "from sklearn.linear_model import LinearRegression"
   ]
  },
  {
   "cell_type": "code",
   "execution_count": 15,
   "id": "6efa97dd",
   "metadata": {},
   "outputs": [],
   "source": [
    "lr = LinearRegression()"
   ]
  },
  {
   "cell_type": "code",
   "execution_count": 16,
   "id": "67d1caa8",
   "metadata": {},
   "outputs": [
    {
     "data": {
      "text/plain": [
       "LinearRegression()"
      ]
     },
     "execution_count": 16,
     "metadata": {},
     "output_type": "execute_result"
    }
   ],
   "source": [
    "lr.fit(x,y)"
   ]
  },
  {
   "cell_type": "code",
   "execution_count": 17,
   "id": "75c24a09",
   "metadata": {},
   "outputs": [],
   "source": [
    "# Now Prediction"
   ]
  },
  {
   "cell_type": "code",
   "execution_count": 18,
   "id": "a68ea04e",
   "metadata": {},
   "outputs": [],
   "source": [
    "y_pred = lr.predict(x)"
   ]
  },
  {
   "cell_type": "code",
   "execution_count": 19,
   "id": "8737a5e9",
   "metadata": {},
   "outputs": [
    {
     "data": {
      "text/plain": [
       "array([[19.73726517],\n",
       "       [ 9.44300377],\n",
       "       [ 7.92881554],\n",
       "       [15.37773421],\n",
       "       [17.00285199],\n",
       "       [ 7.45736499],\n",
       "       [10.16404579],\n",
       "       [13.6416869 ],\n",
       "       [ 7.45181851],\n",
       "       [18.05668263],\n",
       "       [10.64104282],\n",
       "       [18.88310771],\n",
       "       [ 8.29488303],\n",
       "       [12.38263661],\n",
       "       [18.29518114],\n",
       "       [17.81263764],\n",
       "       [10.73533293],\n",
       "       [22.5826079 ],\n",
       "       [10.8129836 ],\n",
       "       [15.14478218],\n",
       "       [19.08832736],\n",
       "       [20.142158  ],\n",
       "       [ 7.70695646],\n",
       "       [19.63742859],\n",
       "       [10.43027669],\n",
       "       [21.55650964],\n",
       "       [14.90073719],\n",
       "       [20.29191288],\n",
       "       [20.77445638],\n",
       "       [10.89063428],\n",
       "       [23.22045276],\n",
       "       [13.23679407],\n",
       "       [12.36599718],\n",
       "       [21.70626452],\n",
       "       [12.28280002],\n",
       "       [23.09843026],\n",
       "       [21.77836873],\n",
       "       [11.11803984],\n",
       "       [ 9.3653531 ],\n",
       "       [19.62078916],\n",
       "       [18.20643751],\n",
       "       [16.79208586],\n",
       "       [23.2592781 ],\n",
       "       [18.4504825 ],\n",
       "       [ 8.36698723],\n",
       "       [16.6867028 ],\n",
       "       [11.9500114 ],\n",
       "       [20.28081992],\n",
       "       [19.57641734],\n",
       "       [10.68541463],\n",
       "       [18.05668263],\n",
       "       [12.54348444],\n",
       "       [18.97739782],\n",
       "       [17.10268858],\n",
       "       [21.54541669],\n",
       "       [18.00676433],\n",
       "       [ 7.37971431],\n",
       "       [14.52912323],\n",
       "       [18.6667951 ],\n",
       "       [18.66124863],\n",
       "       [ 9.94218671],\n",
       "       [21.46776601],\n",
       "       [20.24754106],\n",
       "       [12.67105342],\n",
       "       [14.2462529 ],\n",
       "       [10.80189065],\n",
       "       [ 8.72196176],\n",
       "       [14.70106401],\n",
       "       [20.142158  ],\n",
       "       [18.99958373],\n",
       "       [18.01785729],\n",
       "       [13.06485329],\n",
       "       [ 8.46127734],\n",
       "       [14.15196279],\n",
       "       [18.81100351],\n",
       "       [ 7.91217611],\n",
       "       [ 8.50010268],\n",
       "       [13.65832633],\n",
       "       [ 7.27433125],\n",
       "       [13.40873486],\n",
       "       [11.21232995],\n",
       "       [20.27527345],\n",
       "       [11.1513187 ],\n",
       "       [10.76861179],\n",
       "       [18.81654998],\n",
       "       [17.69061514],\n",
       "       [11.20678348],\n",
       "       [13.11477158],\n",
       "       [11.87236072],\n",
       "       [13.06485329],\n",
       "       [14.42374016],\n",
       "       [ 8.56111392],\n",
       "       [19.04950202],\n",
       "       [20.8909324 ],\n",
       "       [12.93173784],\n",
       "       [16.03221851],\n",
       "       [17.93466013],\n",
       "       [17.23025755],\n",
       "       [23.04296549],\n",
       "       [14.47365846],\n",
       "       [19.31018644],\n",
       "       [23.41457946],\n",
       "       [22.51605017],\n",
       "       [17.39665186],\n",
       "       [20.18652981],\n",
       "       [14.62341334],\n",
       "       [ 8.36144075],\n",
       "       [11.98883674],\n",
       "       [ 7.70140998],\n",
       "       [21.14052387],\n",
       "       [19.49876666],\n",
       "       [20.38065651],\n",
       "       [16.71998166],\n",
       "       [18.60023738],\n",
       "       [11.31216654],\n",
       "       [11.14022575],\n",
       "       [14.69551754],\n",
       "       [11.21232995],\n",
       "       [13.94674314],\n",
       "       [ 8.05083804],\n",
       "       [14.81199356],\n",
       "       [ 8.01755917],\n",
       "       [19.39893007],\n",
       "       [13.80253473],\n",
       "       [19.70398631],\n",
       "       [11.81134947],\n",
       "       [ 7.4074467 ],\n",
       "       [11.42309608],\n",
       "       [19.19371042],\n",
       "       [10.28052181],\n",
       "       [ 7.01364683],\n",
       "       [21.68407862],\n",
       "       [ 7.44072556],\n",
       "       [19.16597804],\n",
       "       [ 9.02147152],\n",
       "       [ 9.6537699 ],\n",
       "       [ 8.39471961],\n",
       "       [22.15552917],\n",
       "       [ 9.35980662],\n",
       "       [17.23025755],\n",
       "       [11.04593564],\n",
       "       [17.71834753],\n",
       "       [19.20480338],\n",
       "       [12.77643648],\n",
       "       [12.31053241],\n",
       "       [14.75652879],\n",
       "       [20.29191288],\n",
       "       [20.46385367],\n",
       "       [ 9.08248277],\n",
       "       [ 9.45409673],\n",
       "       [22.54378256],\n",
       "       [13.68605872],\n",
       "       [17.93466013],\n",
       "       [16.47593667],\n",
       "       [17.39110538],\n",
       "       [ 7.20222705],\n",
       "       [12.18296344],\n",
       "       [15.2834441 ],\n",
       "       [ 7.6237593 ],\n",
       "       [14.27953176],\n",
       "       [16.54249439],\n",
       "       [11.72815232],\n",
       "       [17.42438424],\n",
       "       [16.04331146],\n",
       "       [13.47529259],\n",
       "       [19.98131016],\n",
       "       [ 7.96764088],\n",
       "       [18.44493602],\n",
       "       [18.92193305],\n",
       "       [22.74345573],\n",
       "       [ 9.74806001],\n",
       "       [16.09877623],\n",
       "       [ 8.06193099],\n",
       "       [16.31508884],\n",
       "       [19.31018644],\n",
       "       [22.33301643],\n",
       "       [20.75227047],\n",
       "       [16.41492542],\n",
       "       [22.32192348],\n",
       "       [16.15978748],\n",
       "       [15.66060454],\n",
       "       [19.09387384],\n",
       "       [10.09194159],\n",
       "       [22.92648948],\n",
       "       [21.05178023],\n",
       "       [18.34509943],\n",
       "       [14.71215697],\n",
       "       [17.57413912],\n",
       "       [22.83774584],\n",
       "       [ 8.0120127 ],\n",
       "       [ 9.16567992],\n",
       "       [11.16241166],\n",
       "       [ 7.92881554],\n",
       "       [16.2263452 ],\n",
       "       [15.27789763],\n",
       "       [ 9.09357572],\n",
       "       [12.19960287],\n",
       "       [16.79208586],\n",
       "       [22.70463039],\n",
       "       [19.84819471]])"
      ]
     },
     "execution_count": 19,
     "metadata": {},
     "output_type": "execute_result"
    }
   ],
   "source": [
    "y_pred"
   ]
  },
  {
   "cell_type": "code",
   "execution_count": 26,
   "id": "03419567",
   "metadata": {},
   "outputs": [
    {
     "data": {
      "text/plain": [
       "<matplotlib.collections.PathCollection at 0x23d6e81d2e0>"
      ]
     },
     "execution_count": 26,
     "metadata": {},
     "output_type": "execute_result"
    },
    {
     "data": {
      "image/png": "[encoded data removed]",
      "text/plain": [
       "<Figure size 432x288 with 1 Axes>"
      ]
     },
     "metadata": {
      "needs_background": "light"
     },
     "output_type": "display_data"
    }
   ],
   "source": [
    "plt.scatter(df.TV,y_pred)"
   ]
  },
  {
   "cell_type": "code",
   "execution_count": 22,
   "id": "93ea0375",
   "metadata": {},
   "outputs": [],
   "source": [
    "# Now compare it with Original?"
   ]
  },
  {
   "cell_type": "code",
   "execution_count": 27,
   "id": "419ad21e",
   "metadata": {},
   "outputs": [
    {
     "data": {
      "text/plain": [
       "[<matplotlib.lines.Line2D at 0x23d6e875af0>]"
      ]
     },
     "execution_count": 27,
     "metadata": {},
     "output_type": "execute_result"
    },
    {
     "data": {
      "image/png": "[encoded data removed]",
      "text/plain": [
       "<Figure size 432x288 with 1 Axes>"
      ]
     },
     "metadata": {
      "needs_background": "light"
     },
     "output_type": "display_data"
    }
   ],
   "source": [
    "plt.scatter(df.index,df.Sales)\n",
    "plt.plot(y_pred,'g')"
   ]
  },
  {
   "cell_type": "code",
   "execution_count": 28,
   "id": "35c53f45",
   "metadata": {},
   "outputs": [
    {
     "data": {
      "text/plain": [
       "0.8121757029987414"
      ]
     },
     "execution_count": 28,
     "metadata": {},
     "output_type": "execute_result"
    }
   ],
   "source": [
    "lr.score(x,y)"
   ]
  },
  {
   "cell_type": "code",
   "execution_count": null,
   "id": "ada5173c",
   "metadata": {},
   "outputs": [],
   "source": []
  }
 ],
 "metadata": {
  "kernelspec": {
   "display_name": "Python 3",
   "language": "python",
   "name": "python3"
  },
  "language_info": {
   "codemirror_mode": {
    "name": "ipython",
    "version": 3
   },
   "file_extension": ".py",
   "mimetype": "text/x-python",
   "name": "python",
   "nbconvert_exporter": "python",
   "pygments_lexer": "ipython3",
   "version": "3.8.8"
  }
 },
 "nbformat": 4,
 "nbformat_minor": 5
}
