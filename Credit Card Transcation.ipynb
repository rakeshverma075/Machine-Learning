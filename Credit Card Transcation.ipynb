{
 "cells": [
  {
   "cell_type": "code",
   "execution_count": 2,
   "id": "5f266680",
   "metadata": {},
   "outputs": [],
   "source": [
    "import pandas as pd\n",
    "import numpy as np\n",
    "import matplotlib.pyplot as plt\n",
    "import seaborn as sns"
   ]
  },
  {
   "cell_type": "code",
   "execution_count": 4,
   "id": "4b627e7a",
   "metadata": {},
   "outputs": [],
   "source": [
    "df=pd.read_csv(\"Credit Card Transactions.csv\")"
   ]
  },
  {
   "cell_type": "code",
   "execution_count": 5,
   "id": "2f7dcfe9",
   "metadata": {},
   "outputs": [
    {
     "data": {
      "text/html": [
       "<div>\n",
       "<style scoped>\n",
       "    .dataframe tbody tr th:only-of-type {\n",
       "        vertical-align: middle;\n",
       "    }\n",
       "\n",
       "    .dataframe tbody tr th {\n",
       "        vertical-align: top;\n",
       "    }\n",
       "\n",
       "    .dataframe thead th {\n",
       "        text-align: right;\n",
       "    }\n",
       "</style>\n",
       "<table border=\"1\" class=\"dataframe\">\n",
       "  <thead>\n",
       "    <tr style=\"text-align: right;\">\n",
       "      <th></th>\n",
       "      <th>Customer_ID</th>\n",
       "      <th>Status_Checking_Acc</th>\n",
       "      <th>Duration_in_Months</th>\n",
       "      <th>Credit_History</th>\n",
       "      <th>Purposre_Credit_Taken</th>\n",
       "      <th>Credit_Amount</th>\n",
       "      <th>Savings_Acc</th>\n",
       "      <th>Years_At_Present_Employment</th>\n",
       "      <th>Inst_Rt_Income</th>\n",
       "      <th>Marital_Status_Gender</th>\n",
       "      <th>...</th>\n",
       "      <th>Age</th>\n",
       "      <th>Other_Inst_Plans</th>\n",
       "      <th>Housing</th>\n",
       "      <th>Num_CC</th>\n",
       "      <th>Job</th>\n",
       "      <th>Dependents</th>\n",
       "      <th>Telephone</th>\n",
       "      <th>Foreign_Worker</th>\n",
       "      <th>Default_On_Payment</th>\n",
       "      <th>Count</th>\n",
       "    </tr>\n",
       "  </thead>\n",
       "  <tbody>\n",
       "    <tr>\n",
       "      <th>0</th>\n",
       "      <td>100001</td>\n",
       "      <td>A11</td>\n",
       "      <td>6</td>\n",
       "      <td>A34</td>\n",
       "      <td>A43</td>\n",
       "      <td>1169</td>\n",
       "      <td>A65</td>\n",
       "      <td>A75</td>\n",
       "      <td>4</td>\n",
       "      <td>A93</td>\n",
       "      <td>...</td>\n",
       "      <td>67</td>\n",
       "      <td>A143</td>\n",
       "      <td>A152</td>\n",
       "      <td>2</td>\n",
       "      <td>A173</td>\n",
       "      <td>1</td>\n",
       "      <td>A192</td>\n",
       "      <td>A201</td>\n",
       "      <td>0</td>\n",
       "      <td>1</td>\n",
       "    </tr>\n",
       "    <tr>\n",
       "      <th>1</th>\n",
       "      <td>100002</td>\n",
       "      <td>A12</td>\n",
       "      <td>48</td>\n",
       "      <td>A32</td>\n",
       "      <td>A43</td>\n",
       "      <td>5951</td>\n",
       "      <td>A61</td>\n",
       "      <td>A73</td>\n",
       "      <td>2</td>\n",
       "      <td>A92</td>\n",
       "      <td>...</td>\n",
       "      <td>22</td>\n",
       "      <td>A143</td>\n",
       "      <td>A152</td>\n",
       "      <td>1</td>\n",
       "      <td>A173</td>\n",
       "      <td>1</td>\n",
       "      <td>A191</td>\n",
       "      <td>A201</td>\n",
       "      <td>0</td>\n",
       "      <td>1</td>\n",
       "    </tr>\n",
       "    <tr>\n",
       "      <th>2</th>\n",
       "      <td>100003</td>\n",
       "      <td>A14</td>\n",
       "      <td>12</td>\n",
       "      <td>A34</td>\n",
       "      <td>A46</td>\n",
       "      <td>2096</td>\n",
       "      <td>A61</td>\n",
       "      <td>A74</td>\n",
       "      <td>2</td>\n",
       "      <td>A93</td>\n",
       "      <td>...</td>\n",
       "      <td>49</td>\n",
       "      <td>A143</td>\n",
       "      <td>A152</td>\n",
       "      <td>1</td>\n",
       "      <td>A172</td>\n",
       "      <td>2</td>\n",
       "      <td>A191</td>\n",
       "      <td>A201</td>\n",
       "      <td>0</td>\n",
       "      <td>1</td>\n",
       "    </tr>\n",
       "    <tr>\n",
       "      <th>3</th>\n",
       "      <td>100004</td>\n",
       "      <td>A11</td>\n",
       "      <td>42</td>\n",
       "      <td>A32</td>\n",
       "      <td>A42</td>\n",
       "      <td>7882</td>\n",
       "      <td>A61</td>\n",
       "      <td>A74</td>\n",
       "      <td>2</td>\n",
       "      <td>A93</td>\n",
       "      <td>...</td>\n",
       "      <td>45</td>\n",
       "      <td>A143</td>\n",
       "      <td>A153</td>\n",
       "      <td>1</td>\n",
       "      <td>A173</td>\n",
       "      <td>2</td>\n",
       "      <td>A191</td>\n",
       "      <td>A201</td>\n",
       "      <td>0</td>\n",
       "      <td>1</td>\n",
       "    </tr>\n",
       "    <tr>\n",
       "      <th>4</th>\n",
       "      <td>100005</td>\n",
       "      <td>A11</td>\n",
       "      <td>24</td>\n",
       "      <td>A33</td>\n",
       "      <td>A40</td>\n",
       "      <td>4870</td>\n",
       "      <td>A61</td>\n",
       "      <td>A73</td>\n",
       "      <td>3</td>\n",
       "      <td>A93</td>\n",
       "      <td>...</td>\n",
       "      <td>53</td>\n",
       "      <td>A143</td>\n",
       "      <td>A153</td>\n",
       "      <td>2</td>\n",
       "      <td>A173</td>\n",
       "      <td>2</td>\n",
       "      <td>A191</td>\n",
       "      <td>A201</td>\n",
       "      <td>1</td>\n",
       "      <td>1</td>\n",
       "    </tr>\n",
       "  </tbody>\n",
       "</table>\n",
       "<p>5 rows × 23 columns</p>\n",
       "</div>"
      ],
      "text/plain": [
       "   Customer_ID Status_Checking_Acc  Duration_in_Months Credit_History  \\\n",
       "0       100001                 A11                   6            A34   \n",
       "1       100002                 A12                  48            A32   \n",
       "2       100003                 A14                  12            A34   \n",
       "3       100004                 A11                  42            A32   \n",
       "4       100005                 A11                  24            A33   \n",
       "\n",
       "  Purposre_Credit_Taken  Credit_Amount Savings_Acc  \\\n",
       "0                   A43           1169         A65   \n",
       "1                   A43           5951         A61   \n",
       "2                   A46           2096         A61   \n",
       "3                   A42           7882         A61   \n",
       "4                   A40           4870         A61   \n",
       "\n",
       "  Years_At_Present_Employment  Inst_Rt_Income Marital_Status_Gender  ... Age  \\\n",
       "0                         A75               4                   A93  ...  67   \n",
       "1                         A73               2                   A92  ...  22   \n",
       "2                         A74               2                   A93  ...  49   \n",
       "3                         A74               2                   A93  ...  45   \n",
       "4                         A73               3                   A93  ...  53   \n",
       "\n",
       "   Other_Inst_Plans Housing  Num_CC   Job Dependents  Telephone  \\\n",
       "0              A143    A152       2  A173          1       A192   \n",
       "1              A143    A152       1  A173          1       A191   \n",
       "2              A143    A152       1  A172          2       A191   \n",
       "3              A143    A153       1  A173          2       A191   \n",
       "4              A143    A153       2  A173          2       A191   \n",
       "\n",
       "  Foreign_Worker  Default_On_Payment Count  \n",
       "0           A201                   0     1  \n",
       "1           A201                   0     1  \n",
       "2           A201                   0     1  \n",
       "3           A201                   0     1  \n",
       "4           A201                   1     1  \n",
       "\n",
       "[5 rows x 23 columns]"
      ]
     },
     "execution_count": 5,
     "metadata": {},
     "output_type": "execute_result"
    }
   ],
   "source": [
    "df.head()"
   ]
  },
  {
   "cell_type": "code",
   "execution_count": 6,
   "id": "5ef0713d",
   "metadata": {},
   "outputs": [
    {
     "name": "stdout",
     "output_type": "stream",
     "text": [
      "<class 'pandas.core.frame.DataFrame'>\n",
      "RangeIndex: 5000 entries, 0 to 4999\n",
      "Data columns (total 23 columns):\n",
      " #   Column                       Non-Null Count  Dtype \n",
      "---  ------                       --------------  ----- \n",
      " 0   Customer_ID                  5000 non-null   int64 \n",
      " 1   Status_Checking_Acc          5000 non-null   object\n",
      " 2   Duration_in_Months           5000 non-null   int64 \n",
      " 3   Credit_History               5000 non-null   object\n",
      " 4   Purposre_Credit_Taken        5000 non-null   object\n",
      " 5   Credit_Amount                5000 non-null   int64 \n",
      " 6   Savings_Acc                  5000 non-null   object\n",
      " 7   Years_At_Present_Employment  5000 non-null   object\n",
      " 8   Inst_Rt_Income               5000 non-null   int64 \n",
      " 9   Marital_Status_Gender        5000 non-null   object\n",
      " 10  Other_Debtors_Guarantors     5000 non-null   object\n",
      " 11  Current_Address_Yrs          5000 non-null   int64 \n",
      " 12  Property                     5000 non-null   object\n",
      " 13  Age                          5000 non-null   int64 \n",
      " 14  Other_Inst_Plans             5000 non-null   object\n",
      " 15  Housing                      5000 non-null   object\n",
      " 16  Num_CC                       5000 non-null   int64 \n",
      " 17  Job                          5000 non-null   object\n",
      " 18  Dependents                   5000 non-null   int64 \n",
      " 19  Telephone                    5000 non-null   object\n",
      " 20  Foreign_Worker               5000 non-null   object\n",
      " 21  Default_On_Payment           5000 non-null   int64 \n",
      " 22  Count                        5000 non-null   int64 \n",
      "dtypes: int64(10), object(13)\n",
      "memory usage: 898.6+ KB\n"
     ]
    }
   ],
   "source": [
    "df.info()"
   ]
  },
  {
   "cell_type": "code",
   "execution_count": 8,
   "id": "bb02b589",
   "metadata": {},
   "outputs": [],
   "source": [
    "# Delete Unnecessary Column"
   ]
  },
  {
   "cell_type": "code",
   "execution_count": 9,
   "id": "1100e3e0",
   "metadata": {},
   "outputs": [],
   "source": [
    "df = df.drop(['Customer_ID'],axis=1)"
   ]
  },
  {
   "cell_type": "code",
   "execution_count": 10,
   "id": "7bf69760",
   "metadata": {},
   "outputs": [],
   "source": [
    "# Check all Columns"
   ]
  },
  {
   "cell_type": "code",
   "execution_count": 11,
   "id": "982c336b",
   "metadata": {},
   "outputs": [
    {
     "data": {
      "text/plain": [
       "Index(['Status_Checking_Acc', 'Duration_in_Months', 'Credit_History',\n",
       "       'Purposre_Credit_Taken', 'Credit_Amount', 'Savings_Acc',\n",
       "       'Years_At_Present_Employment', 'Inst_Rt_Income',\n",
       "       'Marital_Status_Gender', 'Other_Debtors_Guarantors',\n",
       "       'Current_Address_Yrs', 'Property', 'Age', 'Other_Inst_Plans', 'Housing',\n",
       "       'Num_CC', 'Job', 'Dependents', 'Telephone', 'Foreign_Worker',\n",
       "       'Default_On_Payment', 'Count'],\n",
       "      dtype='object')"
      ]
     },
     "execution_count": 11,
     "metadata": {},
     "output_type": "execute_result"
    }
   ],
   "source": [
    "df.columns"
   ]
  },
  {
   "cell_type": "code",
   "execution_count": 7,
   "id": "90199a15",
   "metadata": {},
   "outputs": [],
   "source": [
    "# To check Outliers"
   ]
  },
  {
   "cell_type": "code",
   "execution_count": 13,
   "id": "9edb4a6b",
   "metadata": {},
   "outputs": [
    {
     "data": {
      "text/plain": [
       "<matplotlib.collections.PathCollection at 0x1655e2e3b20>"
      ]
     },
     "execution_count": 13,
     "metadata": {},
     "output_type": "execute_result"
    },
    {
     "data": {
      "image/png": "[encoded data removed]",
      "text/plain": [
       "<Figure size 432x288 with 1 Axes>"
      ]
     },
     "metadata": {
      "needs_background": "light"
     },
     "output_type": "display_data"
    }
   ],
   "source": [
    "plt.scatter(df.index,df.Credit_Amount)"
   ]
  },
  {
   "cell_type": "code",
   "execution_count": 17,
   "id": "81361cc9",
   "metadata": {},
   "outputs": [
    {
     "data": {
      "text/plain": [
       "1725      250\n",
       "3725      250\n",
       "4725      250\n",
       "2725      250\n",
       "725       250\n",
       "        ...  \n",
       "3915    18424\n",
       "915     18424\n",
       "4915    18424\n",
       "1915    18424\n",
       "2915    18424\n",
       "Name: Credit_Amount, Length: 5000, dtype: int64"
      ]
     },
     "execution_count": 17,
     "metadata": {},
     "output_type": "execute_result"
    }
   ],
   "source": [
    "df['Credit_Amount'].sort_values()"
   ]
  },
  {
   "cell_type": "code",
   "execution_count": 18,
   "id": "0b9caaac",
   "metadata": {},
   "outputs": [],
   "source": [
    "# For Bottom 5 Values"
   ]
  },
  {
   "cell_type": "code",
   "execution_count": 19,
   "id": "1238179c",
   "metadata": {},
   "outputs": [
    {
     "data": {
      "text/plain": [
       "3915    18424\n",
       "915     18424\n",
       "4915    18424\n",
       "1915    18424\n",
       "2915    18424\n",
       "Name: Credit_Amount, dtype: int64"
      ]
     },
     "execution_count": 19,
     "metadata": {},
     "output_type": "execute_result"
    }
   ],
   "source": [
    "df['Credit_Amount'].sort_values()[-5:]"
   ]
  },
  {
   "cell_type": "code",
   "execution_count": 20,
   "id": "11eaf344",
   "metadata": {},
   "outputs": [],
   "source": [
    "# Take index value"
   ]
  },
  {
   "cell_type": "code",
   "execution_count": 21,
   "id": "d3f41c90",
   "metadata": {},
   "outputs": [
    {
     "data": {
      "text/plain": [
       "Int64Index([3915, 915, 4915, 1915, 2915], dtype='int64')"
      ]
     },
     "execution_count": 21,
     "metadata": {},
     "output_type": "execute_result"
    }
   ],
   "source": [
    "df['Credit_Amount'].sort_values()[-5:].index"
   ]
  },
  {
   "cell_type": "code",
   "execution_count": 22,
   "id": "ba115a66",
   "metadata": {},
   "outputs": [],
   "source": [
    "# Now take this index value which is Outlier in list"
   ]
  },
  {
   "cell_type": "code",
   "execution_count": 23,
   "id": "9ceda2fd",
   "metadata": {},
   "outputs": [],
   "source": [
    "outlier = df['Credit_Amount'].sort_values()[-5:].index"
   ]
  },
  {
   "cell_type": "code",
   "execution_count": 24,
   "id": "95490b9c",
   "metadata": {},
   "outputs": [],
   "source": [
    "# Then Drop this Outlier"
   ]
  },
  {
   "cell_type": "code",
   "execution_count": 28,
   "id": "19f26d33",
   "metadata": {},
   "outputs": [],
   "source": [
    "df = df.drop(outlier,axis=0)"
   ]
  },
  {
   "cell_type": "code",
   "execution_count": 29,
   "id": "50da2f31",
   "metadata": {},
   "outputs": [],
   "source": [
    "# Now Check"
   ]
  },
  {
   "cell_type": "code",
   "execution_count": 30,
   "id": "8ff28649",
   "metadata": {},
   "outputs": [
    {
     "data": {
      "text/plain": [
       "<matplotlib.collections.PathCollection at 0x1655eadf3a0>"
      ]
     },
     "execution_count": 30,
     "metadata": {},
     "output_type": "execute_result"
    },
    {
     "data": {
      "image/png": "[encoded data removed]",
      "text/plain": [
       "<Figure size 432x288 with 1 Axes>"
      ]
     },
     "metadata": {
      "needs_background": "light"
     },
     "output_type": "display_data"
    }
   ],
   "source": [
    "plt.scatter(df.index,df.Credit_Amount)"
   ]
  },
  {
   "cell_type": "code",
   "execution_count": 31,
   "id": "5f6efc2c",
   "metadata": {},
   "outputs": [],
   "source": [
    "# Check Correlation"
   ]
  },
  {
   "cell_type": "code",
   "execution_count": 33,
   "id": "a0f2dd21",
   "metadata": {},
   "outputs": [
    {
     "data": {
      "text/plain": [
       "<AxesSubplot:>"
      ]
     },
     "execution_count": 33,
     "metadata": {},
     "output_type": "execute_result"
    },
    {
     "data": {
      "image/png": "[encoded data removed]",
      "text/plain": [
       "<Figure size 432x288 with 2 Axes>"
      ]
     },
     "metadata": {
      "needs_background": "light"
     },
     "output_type": "display_data"
    }
   ],
   "source": [
    "\n",
    "sns.heatmap(df.corr(),annot = True)"
   ]
  },
  {
   "cell_type": "code",
   "execution_count": 34,
   "id": "d99a3be5",
   "metadata": {},
   "outputs": [],
   "source": [
    "# Check Majority & Minority Calss for Balanced & Unbalanced Dataset"
   ]
  },
  {
   "cell_type": "code",
   "execution_count": 35,
   "id": "fe1c3a04",
   "metadata": {},
   "outputs": [
    {
     "data": {
      "text/plain": [
       "0    3505\n",
       "1    1490\n",
       "Name: Default_On_Payment, dtype: int64"
      ]
     },
     "execution_count": 35,
     "metadata": {},
     "output_type": "execute_result"
    }
   ],
   "source": [
    "df['Default_On_Payment'].value_counts()"
   ]
  },
  {
   "cell_type": "code",
   "execution_count": 36,
   "id": "90fb040f",
   "metadata": {},
   "outputs": [],
   "source": [
    " # Find that this is Imbalanced dataset"
   ]
  },
  {
   "cell_type": "code",
   "execution_count": 39,
   "id": "32c3f7cd",
   "metadata": {},
   "outputs": [],
   "source": [
    "# Now Sampling comes in Study:\n",
    "\n",
    "# 1) Undersampling : Undersampling is the technique were we have taken majority class sample & remove to balanced it with\n",
    "#                    minority class\n",
    "#      Drawback:: Data is Decreased\n",
    "\n",
    "# 2) Oversampling : Oversapling is the technique in which we hav taken minority class sample & add that minority class sample\n",
    "#                   or say copy to achieve Majority class data.\n",
    "#      Drawback : Creates Bias as i would add the same value.\n",
    "\n",
    "#-------------------------------------------------------------------------------------------#\n",
    "\n",
    "# Note : Normally Undersampling is Used\n",
    "\n"
   ]
  },
  {
   "cell_type": "code",
   "execution_count": 40,
   "id": "520b59a6",
   "metadata": {},
   "outputs": [],
   "source": [
    "# Now Undersampling is used"
   ]
  },
  {
   "cell_type": "code",
   "execution_count": 46,
   "id": "61f95081",
   "metadata": {},
   "outputs": [
    {
     "data": {
      "text/plain": [
       "Int64Index([1109,  158, 2290, 4369, 3762, 3046, 3476,  406, 4658, 2520,\n",
       "            ...\n",
       "             489, 1136, 3198, 2730, 4994,  411,  202,  950, 4675, 4423],\n",
       "           dtype='int64', length=2000)"
      ]
     },
     "execution_count": 46,
     "metadata": {},
     "output_type": "execute_result"
    }
   ],
   "source": [
    " li = df[df['Default_On_Payment']==0].sample(2000).index\n",
    "li"
   ]
  },
  {
   "cell_type": "code",
   "execution_count": 47,
   "id": "a6b59178",
   "metadata": {},
   "outputs": [],
   "source": [
    "df = df.drop(li,axis=0)"
   ]
  },
  {
   "cell_type": "code",
   "execution_count": 48,
   "id": "6f7477d3",
   "metadata": {},
   "outputs": [
    {
     "data": {
      "text/plain": [
       "0    1505\n",
       "1    1490\n",
       "Name: Default_On_Payment, dtype: int64"
      ]
     },
     "execution_count": 48,
     "metadata": {},
     "output_type": "execute_result"
    }
   ],
   "source": [
    "# Now Check the Data:\n",
    "df['Default_On_Payment'].value_counts()  # Now it is Balanced"
   ]
  },
  {
   "cell_type": "code",
   "execution_count": 53,
   "id": "6ba06511",
   "metadata": {},
   "outputs": [],
   "source": [
    "# Important to rest index value after deletion of index:\n",
    "\n",
    "df.reset_index(drop = True,inplace = True)"
   ]
  },
  {
   "cell_type": "code",
   "execution_count": 54,
   "id": "5a83e67e",
   "metadata": {},
   "outputs": [
    {
     "data": {
      "text/html": [
       "<div>\n",
       "<style scoped>\n",
       "    .dataframe tbody tr th:only-of-type {\n",
       "        vertical-align: middle;\n",
       "    }\n",
       "\n",
       "    .dataframe tbody tr th {\n",
       "        vertical-align: top;\n",
       "    }\n",
       "\n",
       "    .dataframe thead th {\n",
       "        text-align: right;\n",
       "    }\n",
       "</style>\n",
       "<table border=\"1\" class=\"dataframe\">\n",
       "  <thead>\n",
       "    <tr style=\"text-align: right;\">\n",
       "      <th></th>\n",
       "      <th>Status_Checking_Acc</th>\n",
       "      <th>Duration_in_Months</th>\n",
       "      <th>Credit_History</th>\n",
       "      <th>Purposre_Credit_Taken</th>\n",
       "      <th>Credit_Amount</th>\n",
       "      <th>Savings_Acc</th>\n",
       "      <th>Years_At_Present_Employment</th>\n",
       "      <th>Inst_Rt_Income</th>\n",
       "      <th>Marital_Status_Gender</th>\n",
       "      <th>Other_Debtors_Guarantors</th>\n",
       "      <th>...</th>\n",
       "      <th>Age</th>\n",
       "      <th>Other_Inst_Plans</th>\n",
       "      <th>Housing</th>\n",
       "      <th>Num_CC</th>\n",
       "      <th>Job</th>\n",
       "      <th>Dependents</th>\n",
       "      <th>Telephone</th>\n",
       "      <th>Foreign_Worker</th>\n",
       "      <th>Default_On_Payment</th>\n",
       "      <th>Count</th>\n",
       "    </tr>\n",
       "  </thead>\n",
       "  <tbody>\n",
       "    <tr>\n",
       "      <th>0</th>\n",
       "      <td>A12</td>\n",
       "      <td>48</td>\n",
       "      <td>A32</td>\n",
       "      <td>A43</td>\n",
       "      <td>5951</td>\n",
       "      <td>A61</td>\n",
       "      <td>A73</td>\n",
       "      <td>2</td>\n",
       "      <td>A92</td>\n",
       "      <td>A101</td>\n",
       "      <td>...</td>\n",
       "      <td>22</td>\n",
       "      <td>A143</td>\n",
       "      <td>A152</td>\n",
       "      <td>1</td>\n",
       "      <td>A173</td>\n",
       "      <td>1</td>\n",
       "      <td>A191</td>\n",
       "      <td>A201</td>\n",
       "      <td>0</td>\n",
       "      <td>1</td>\n",
       "    </tr>\n",
       "    <tr>\n",
       "      <th>1</th>\n",
       "      <td>A14</td>\n",
       "      <td>12</td>\n",
       "      <td>A34</td>\n",
       "      <td>A46</td>\n",
       "      <td>2096</td>\n",
       "      <td>A61</td>\n",
       "      <td>A74</td>\n",
       "      <td>2</td>\n",
       "      <td>A93</td>\n",
       "      <td>A101</td>\n",
       "      <td>...</td>\n",
       "      <td>49</td>\n",
       "      <td>A143</td>\n",
       "      <td>A152</td>\n",
       "      <td>1</td>\n",
       "      <td>A172</td>\n",
       "      <td>2</td>\n",
       "      <td>A191</td>\n",
       "      <td>A201</td>\n",
       "      <td>0</td>\n",
       "      <td>1</td>\n",
       "    </tr>\n",
       "    <tr>\n",
       "      <th>2</th>\n",
       "      <td>A11</td>\n",
       "      <td>42</td>\n",
       "      <td>A32</td>\n",
       "      <td>A42</td>\n",
       "      <td>7882</td>\n",
       "      <td>A61</td>\n",
       "      <td>A74</td>\n",
       "      <td>2</td>\n",
       "      <td>A93</td>\n",
       "      <td>A103</td>\n",
       "      <td>...</td>\n",
       "      <td>45</td>\n",
       "      <td>A143</td>\n",
       "      <td>A153</td>\n",
       "      <td>1</td>\n",
       "      <td>A173</td>\n",
       "      <td>2</td>\n",
       "      <td>A191</td>\n",
       "      <td>A201</td>\n",
       "      <td>0</td>\n",
       "      <td>1</td>\n",
       "    </tr>\n",
       "    <tr>\n",
       "      <th>3</th>\n",
       "      <td>A11</td>\n",
       "      <td>24</td>\n",
       "      <td>A33</td>\n",
       "      <td>A40</td>\n",
       "      <td>4870</td>\n",
       "      <td>A61</td>\n",
       "      <td>A73</td>\n",
       "      <td>3</td>\n",
       "      <td>A93</td>\n",
       "      <td>A101</td>\n",
       "      <td>...</td>\n",
       "      <td>53</td>\n",
       "      <td>A143</td>\n",
       "      <td>A153</td>\n",
       "      <td>2</td>\n",
       "      <td>A173</td>\n",
       "      <td>2</td>\n",
       "      <td>A191</td>\n",
       "      <td>A201</td>\n",
       "      <td>1</td>\n",
       "      <td>1</td>\n",
       "    </tr>\n",
       "    <tr>\n",
       "      <th>4</th>\n",
       "      <td>A14</td>\n",
       "      <td>24</td>\n",
       "      <td>A32</td>\n",
       "      <td>A42</td>\n",
       "      <td>2835</td>\n",
       "      <td>A63</td>\n",
       "      <td>A75</td>\n",
       "      <td>3</td>\n",
       "      <td>A93</td>\n",
       "      <td>A101</td>\n",
       "      <td>...</td>\n",
       "      <td>53</td>\n",
       "      <td>A143</td>\n",
       "      <td>A152</td>\n",
       "      <td>1</td>\n",
       "      <td>A173</td>\n",
       "      <td>1</td>\n",
       "      <td>A191</td>\n",
       "      <td>A201</td>\n",
       "      <td>0</td>\n",
       "      <td>1</td>\n",
       "    </tr>\n",
       "  </tbody>\n",
       "</table>\n",
       "<p>5 rows × 22 columns</p>\n",
       "</div>"
      ],
      "text/plain": [
       "  Status_Checking_Acc  Duration_in_Months Credit_History  \\\n",
       "0                 A12                  48            A32   \n",
       "1                 A14                  12            A34   \n",
       "2                 A11                  42            A32   \n",
       "3                 A11                  24            A33   \n",
       "4                 A14                  24            A32   \n",
       "\n",
       "  Purposre_Credit_Taken  Credit_Amount Savings_Acc  \\\n",
       "0                   A43           5951         A61   \n",
       "1                   A46           2096         A61   \n",
       "2                   A42           7882         A61   \n",
       "3                   A40           4870         A61   \n",
       "4                   A42           2835         A63   \n",
       "\n",
       "  Years_At_Present_Employment  Inst_Rt_Income Marital_Status_Gender  \\\n",
       "0                         A73               2                   A92   \n",
       "1                         A74               2                   A93   \n",
       "2                         A74               2                   A93   \n",
       "3                         A73               3                   A93   \n",
       "4                         A75               3                   A93   \n",
       "\n",
       "  Other_Debtors_Guarantors  ...  Age Other_Inst_Plans  Housing Num_CC   Job  \\\n",
       "0                     A101  ...   22             A143     A152      1  A173   \n",
       "1                     A101  ...   49             A143     A152      1  A172   \n",
       "2                     A103  ...   45             A143     A153      1  A173   \n",
       "3                     A101  ...   53             A143     A153      2  A173   \n",
       "4                     A101  ...   53             A143     A152      1  A173   \n",
       "\n",
       "   Dependents Telephone  Foreign_Worker Default_On_Payment Count  \n",
       "0           1      A191            A201                  0     1  \n",
       "1           2      A191            A201                  0     1  \n",
       "2           2      A191            A201                  0     1  \n",
       "3           2      A191            A201                  1     1  \n",
       "4           1      A191            A201                  0     1  \n",
       "\n",
       "[5 rows x 22 columns]"
      ]
     },
     "execution_count": 54,
     "metadata": {},
     "output_type": "execute_result"
    }
   ],
   "source": [
    "df.head()"
   ]
  },
  {
   "cell_type": "code",
   "execution_count": 55,
   "id": "773b4bc3",
   "metadata": {},
   "outputs": [],
   "source": [
    "# Now convert categorical Data to Numerical Data"
   ]
  },
  {
   "cell_type": "code",
   "execution_count": 56,
   "id": "b178633f",
   "metadata": {},
   "outputs": [],
   "source": [
    "from sklearn.preprocessing import LabelEncoder"
   ]
  },
  {
   "cell_type": "code",
   "execution_count": 58,
   "id": "60113b16",
   "metadata": {},
   "outputs": [],
   "source": [
    "encoder = LabelEncoder()\n",
    "\n",
    "for i in df.columns :\n",
    "    if isinstance(df[i][0],str):\n",
    "        df[i]=encoder.fit_transform(df[i])"
   ]
  },
  {
   "cell_type": "code",
   "execution_count": 59,
   "id": "281f596f",
   "metadata": {},
   "outputs": [
    {
     "data": {
      "text/html": [
       "<div>\n",
       "<style scoped>\n",
       "    .dataframe tbody tr th:only-of-type {\n",
       "        vertical-align: middle;\n",
       "    }\n",
       "\n",
       "    .dataframe tbody tr th {\n",
       "        vertical-align: top;\n",
       "    }\n",
       "\n",
       "    .dataframe thead th {\n",
       "        text-align: right;\n",
       "    }\n",
       "</style>\n",
       "<table border=\"1\" class=\"dataframe\">\n",
       "  <thead>\n",
       "    <tr style=\"text-align: right;\">\n",
       "      <th></th>\n",
       "      <th>Status_Checking_Acc</th>\n",
       "      <th>Duration_in_Months</th>\n",
       "      <th>Credit_History</th>\n",
       "      <th>Purposre_Credit_Taken</th>\n",
       "      <th>Credit_Amount</th>\n",
       "      <th>Savings_Acc</th>\n",
       "      <th>Years_At_Present_Employment</th>\n",
       "      <th>Inst_Rt_Income</th>\n",
       "      <th>Marital_Status_Gender</th>\n",
       "      <th>Other_Debtors_Guarantors</th>\n",
       "      <th>...</th>\n",
       "      <th>Age</th>\n",
       "      <th>Other_Inst_Plans</th>\n",
       "      <th>Housing</th>\n",
       "      <th>Num_CC</th>\n",
       "      <th>Job</th>\n",
       "      <th>Dependents</th>\n",
       "      <th>Telephone</th>\n",
       "      <th>Foreign_Worker</th>\n",
       "      <th>Default_On_Payment</th>\n",
       "      <th>Count</th>\n",
       "    </tr>\n",
       "  </thead>\n",
       "  <tbody>\n",
       "    <tr>\n",
       "      <th>0</th>\n",
       "      <td>1</td>\n",
       "      <td>48</td>\n",
       "      <td>2</td>\n",
       "      <td>4</td>\n",
       "      <td>5951</td>\n",
       "      <td>0</td>\n",
       "      <td>2</td>\n",
       "      <td>2</td>\n",
       "      <td>1</td>\n",
       "      <td>0</td>\n",
       "      <td>...</td>\n",
       "      <td>22</td>\n",
       "      <td>2</td>\n",
       "      <td>1</td>\n",
       "      <td>1</td>\n",
       "      <td>2</td>\n",
       "      <td>1</td>\n",
       "      <td>0</td>\n",
       "      <td>0</td>\n",
       "      <td>0</td>\n",
       "      <td>1</td>\n",
       "    </tr>\n",
       "    <tr>\n",
       "      <th>1</th>\n",
       "      <td>3</td>\n",
       "      <td>12</td>\n",
       "      <td>4</td>\n",
       "      <td>7</td>\n",
       "      <td>2096</td>\n",
       "      <td>0</td>\n",
       "      <td>3</td>\n",
       "      <td>2</td>\n",
       "      <td>2</td>\n",
       "      <td>0</td>\n",
       "      <td>...</td>\n",
       "      <td>49</td>\n",
       "      <td>2</td>\n",
       "      <td>1</td>\n",
       "      <td>1</td>\n",
       "      <td>1</td>\n",
       "      <td>2</td>\n",
       "      <td>0</td>\n",
       "      <td>0</td>\n",
       "      <td>0</td>\n",
       "      <td>1</td>\n",
       "    </tr>\n",
       "    <tr>\n",
       "      <th>2</th>\n",
       "      <td>0</td>\n",
       "      <td>42</td>\n",
       "      <td>2</td>\n",
       "      <td>3</td>\n",
       "      <td>7882</td>\n",
       "      <td>0</td>\n",
       "      <td>3</td>\n",
       "      <td>2</td>\n",
       "      <td>2</td>\n",
       "      <td>2</td>\n",
       "      <td>...</td>\n",
       "      <td>45</td>\n",
       "      <td>2</td>\n",
       "      <td>2</td>\n",
       "      <td>1</td>\n",
       "      <td>2</td>\n",
       "      <td>2</td>\n",
       "      <td>0</td>\n",
       "      <td>0</td>\n",
       "      <td>0</td>\n",
       "      <td>1</td>\n",
       "    </tr>\n",
       "    <tr>\n",
       "      <th>3</th>\n",
       "      <td>0</td>\n",
       "      <td>24</td>\n",
       "      <td>3</td>\n",
       "      <td>0</td>\n",
       "      <td>4870</td>\n",
       "      <td>0</td>\n",
       "      <td>2</td>\n",
       "      <td>3</td>\n",
       "      <td>2</td>\n",
       "      <td>0</td>\n",
       "      <td>...</td>\n",
       "      <td>53</td>\n",
       "      <td>2</td>\n",
       "      <td>2</td>\n",
       "      <td>2</td>\n",
       "      <td>2</td>\n",
       "      <td>2</td>\n",
       "      <td>0</td>\n",
       "      <td>0</td>\n",
       "      <td>1</td>\n",
       "      <td>1</td>\n",
       "    </tr>\n",
       "    <tr>\n",
       "      <th>4</th>\n",
       "      <td>3</td>\n",
       "      <td>24</td>\n",
       "      <td>2</td>\n",
       "      <td>3</td>\n",
       "      <td>2835</td>\n",
       "      <td>2</td>\n",
       "      <td>4</td>\n",
       "      <td>3</td>\n",
       "      <td>2</td>\n",
       "      <td>0</td>\n",
       "      <td>...</td>\n",
       "      <td>53</td>\n",
       "      <td>2</td>\n",
       "      <td>1</td>\n",
       "      <td>1</td>\n",
       "      <td>2</td>\n",
       "      <td>1</td>\n",
       "      <td>0</td>\n",
       "      <td>0</td>\n",
       "      <td>0</td>\n",
       "      <td>1</td>\n",
       "    </tr>\n",
       "  </tbody>\n",
       "</table>\n",
       "<p>5 rows × 22 columns</p>\n",
       "</div>"
      ],
      "text/plain": [
       "   Status_Checking_Acc  Duration_in_Months  Credit_History  \\\n",
       "0                    1                  48               2   \n",
       "1                    3                  12               4   \n",
       "2                    0                  42               2   \n",
       "3                    0                  24               3   \n",
       "4                    3                  24               2   \n",
       "\n",
       "   Purposre_Credit_Taken  Credit_Amount  Savings_Acc  \\\n",
       "0                      4           5951            0   \n",
       "1                      7           2096            0   \n",
       "2                      3           7882            0   \n",
       "3                      0           4870            0   \n",
       "4                      3           2835            2   \n",
       "\n",
       "   Years_At_Present_Employment  Inst_Rt_Income  Marital_Status_Gender  \\\n",
       "0                            2               2                      1   \n",
       "1                            3               2                      2   \n",
       "2                            3               2                      2   \n",
       "3                            2               3                      2   \n",
       "4                            4               3                      2   \n",
       "\n",
       "   Other_Debtors_Guarantors  ...  Age  Other_Inst_Plans  Housing  Num_CC  Job  \\\n",
       "0                         0  ...   22                 2        1       1    2   \n",
       "1                         0  ...   49                 2        1       1    1   \n",
       "2                         2  ...   45                 2        2       1    2   \n",
       "3                         0  ...   53                 2        2       2    2   \n",
       "4                         0  ...   53                 2        1       1    2   \n",
       "\n",
       "   Dependents  Telephone  Foreign_Worker  Default_On_Payment  Count  \n",
       "0           1          0               0                   0      1  \n",
       "1           2          0               0                   0      1  \n",
       "2           2          0               0                   0      1  \n",
       "3           2          0               0                   1      1  \n",
       "4           1          0               0                   0      1  \n",
       "\n",
       "[5 rows x 22 columns]"
      ]
     },
     "execution_count": 59,
     "metadata": {},
     "output_type": "execute_result"
    }
   ],
   "source": [
    "df.head()"
   ]
  },
  {
   "cell_type": "code",
   "execution_count": 60,
   "id": "dbe9827c",
   "metadata": {},
   "outputs": [],
   "source": [
    "# Take X & Y :\n"
   ]
  },
  {
   "cell_type": "code",
   "execution_count": 62,
   "id": "137e2285",
   "metadata": {},
   "outputs": [],
   "source": [
    "x =  df.drop('Default_On_Payment',axis=1)\n",
    "y = df['Default_On_Payment']"
   ]
  },
  {
   "cell_type": "markdown",
   "id": "55a38e03",
   "metadata": {},
   "source": [
    "# Now Import Model"
   ]
  },
  {
   "cell_type": "code",
   "execution_count": 63,
   "id": "56815f58",
   "metadata": {},
   "outputs": [],
   "source": [
    "from sklearn.model_selection import train_test_split\n",
    "\n",
    "x_train,x_test,y_train,y_test = train_test_split(x,y, test_size=0.2,random_state=42)"
   ]
  },
  {
   "cell_type": "markdown",
   "id": "35ce98d9",
   "metadata": {},
   "source": [
    "# Logistic Regression\n"
   ]
  },
  {
   "cell_type": "code",
   "execution_count": 67,
   "id": "8efb0ad8",
   "metadata": {},
   "outputs": [],
   "source": [
    "from sklearn.linear_model import LogisticRegression\n",
    "lr = LogisticRegression()"
   ]
  },
  {
   "cell_type": "code",
   "execution_count": 68,
   "id": "4b26d268",
   "metadata": {},
   "outputs": [
    {
     "name": "stderr",
     "output_type": "stream",
     "text": [
      "C:\\Users\\Rakesh Verma\\anaconda3\\lib\\site-packages\\sklearn\\linear_model\\_logistic.py:763: ConvergenceWarning: lbfgs failed to converge (status=1):\n",
      "STOP: TOTAL NO. of ITERATIONS REACHED LIMIT.\n",
      "\n",
      "Increase the number of iterations (max_iter) or scale the data as shown in:\n",
      "    https://scikit-learn.org/stable/modules/preprocessing.html\n",
      "Please also refer to the documentation for alternative solver options:\n",
      "    https://scikit-learn.org/stable/modules/linear_model.html#logistic-regression\n",
      "  n_iter_i = _check_optimize_result(\n"
     ]
    },
    {
     "data": {
      "text/plain": [
       "LogisticRegression()"
      ]
     },
     "execution_count": 68,
     "metadata": {},
     "output_type": "execute_result"
    }
   ],
   "source": [
    "lr.fit(x_train,y_train)"
   ]
  },
  {
   "cell_type": "code",
   "execution_count": 69,
   "id": "e1d46ce2",
   "metadata": {},
   "outputs": [],
   "source": [
    "pred = lr.predict(x_test)"
   ]
  },
  {
   "cell_type": "code",
   "execution_count": 72,
   "id": "e0415bfd",
   "metadata": {},
   "outputs": [],
   "source": [
    "from sklearn.metrics import classification_report"
   ]
  },
  {
   "cell_type": "code",
   "execution_count": 73,
   "id": "8073a60c",
   "metadata": {},
   "outputs": [
    {
     "name": "stdout",
     "output_type": "stream",
     "text": [
      "              precision    recall  f1-score   support\n",
      "\n",
      "           0       0.76      0.73      0.74       317\n",
      "           1       0.71      0.74      0.72       282\n",
      "\n",
      "    accuracy                           0.73       599\n",
      "   macro avg       0.73      0.73      0.73       599\n",
      "weighted avg       0.73      0.73      0.73       599\n",
      "\n"
     ]
    }
   ],
   "source": [
    "print(classification_report(y_test,pred))"
   ]
  },
  {
   "cell_type": "code",
   "execution_count": null,
   "id": "b99a900f",
   "metadata": {},
   "outputs": [],
   "source": []
  }
 ],
 "metadata": {
  "kernelspec": {
   "display_name": "Python 3",
   "language": "python",
   "name": "python3"
  },
  "language_info": {
   "codemirror_mode": {
    "name": "ipython",
    "version": 3
   },
   "file_extension": ".py",
   "mimetype": "text/x-python",
   "name": "python",
   "nbconvert_exporter": "python",
   "pygments_lexer": "ipython3",
   "version": "3.8.8"
  }
 },
 "nbformat": 4,
 "nbformat_minor": 5
}
